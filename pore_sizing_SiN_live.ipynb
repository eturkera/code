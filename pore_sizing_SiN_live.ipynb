{
 "cells": [
  {
   "cell_type": "markdown",
   "metadata": {},
   "source": [
    "# Pore sizing during etch\n",
    "\n",
    "- This program is used to quickly determine the 'cut off' voltage of an active dielectric breakdown etching of SiN pores\n",
    "\n",
    "- The program yields the diameter for a given measured current after first subtracting off the observed leakage current\n",
    "\n",
    "- Uses the following equation\n",
    "\n",
    "$$ G = \\sigma\\left[\\frac{4t}{\\pi d^{2}}+\\frac{1}{d}\\right]^{-1} $$\n"
   ]
  },
  {
   "cell_type": "markdown",
   "metadata": {},
   "source": [
    "## Imports"
   ]
  },
  {
   "cell_type": "code",
   "execution_count": 1,
   "metadata": {
    "collapsed": true
   },
   "outputs": [],
   "source": [
    "# Python standard library\n",
    "import csv\n",
    "\n",
    "# Scientific computing\n",
    "import numpy as np\n",
    "import scipy.optimize\n",
    "import matplotlib.pyplot as plt"
   ]
  },
  {
   "cell_type": "markdown",
   "metadata": {},
   "source": [
    "## Constants\n"
   ]
  },
  {
   "cell_type": "code",
   "execution_count": 2,
   "metadata": {
    "collapsed": true
   },
   "outputs": [],
   "source": [
    "# Keep this the same\n",
    "nm = 10**(-9.)\n",
    "nA = 10**(-9.)\n",
    "\n",
    "# Set these!\n",
    "V = 8.    # Etching voltage\n",
    "sigma = 10.    # Conductivity\n",
    "t = 10*nm    # Pore thickness\n",
    "\n",
    "include_access = True    # Include access? boolean value\n"
   ]
  },
  {
   "cell_type": "code",
   "execution_count": 3,
   "metadata": {
    "collapsed": true
   },
   "outputs": [],
   "source": [
    "def pore_current(d):\n",
    "    G = sigma * ((4*t)/(np.pi*d**2.) + include_access * 1./d)**(-1.)\n",
    "    return G*V"
   ]
  },
  {
   "cell_type": "markdown",
   "metadata": {},
   "source": [
    "##### Set the leakage current and desired diameter\n",
    "- Set the desired diameter to whatever diameter size you want for the pore\n",
    "- Set the leakage current to the value of the current measured on the picoammeter (e.g. Keithley6487) immediately at the start of the current increase time"
   ]
  },
  {
   "cell_type": "code",
   "execution_count": 11,
   "metadata": {
    "collapsed": false
   },
   "outputs": [],
   "source": [
    "leakage_current = 220*nA\n",
    "desired_diameter = 5*nm"
   ]
  },
  {
   "cell_type": "code",
   "execution_count": 12,
   "metadata": {
    "collapsed": false
   },
   "outputs": [
    {
     "name": "stdout",
     "output_type": "stream",
     "text": [
      "Stop at  332.787920049 nA!\n"
     ]
    },
    {
     "data": {
      "image/png": "[encoded data removed]",
      "text/plain": [
       "<matplotlib.figure.Figure at 0x7f506083a2d0>"
      ]
     },
     "metadata": {},
     "output_type": "display_data"
    }
   ],
   "source": [
    "ds = np.linspace(.25*nm, 100*nm, 10000.)\n",
    "currents = np.array([pore_current(d) + leakage_current for d in ds])\n",
    "\n",
    "plt.plot(currents/nA, ds/nm, color = 'k')\n",
    "plt.scatter((pore_current(desired_diameter) + leakage_current)/nA, desired_diameter/nm, marker = 'x', lw = 5, s = 100, color = 'red')\n",
    "\n",
    "print 'Stop at ', (pore_current(desired_diameter) + leakage_current)/nA, 'nA!'\n",
    "\n",
    "plt.xlim(0,1250)\n",
    "plt.ylim(0,20)\n",
    "\n",
    "plt.xlabel('Current (nA)')\n",
    "plt.ylabel('Diameter (nm)')\n",
    "\n",
    "\n",
    "\n",
    "\n",
    "\n",
    "plt.grid()\n",
    "\n",
    "plt.show()"
   ]
  },
  {
   "cell_type": "code",
   "execution_count": null,
   "metadata": {
    "collapsed": true
   },
   "outputs": [],
   "source": []
  },
  {
   "cell_type": "code",
   "execution_count": null,
   "metadata": {
    "collapsed": true
   },
   "outputs": [],
   "source": []
  }
 ],
 "metadata": {
  "anaconda-cloud": {},
  "kernelspec": {
   "display_name": "Python [conda env:py27]",
   "language": "python",
   "name": "conda-env-py27-py"
  },
  "language_info": {
   "codemirror_mode": {
    "name": "ipython",
    "version": 2
   },
   "file_extension": ".py",
   "mimetype": "text/x-python",
   "name": "python",
   "nbconvert_exporter": "python",
   "pygments_lexer": "ipython2",
   "version": "2.7.12"
  }
 },
 "nbformat": 4,
 "nbformat_minor": 1
}
